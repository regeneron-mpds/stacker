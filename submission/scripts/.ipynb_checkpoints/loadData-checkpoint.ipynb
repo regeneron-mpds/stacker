{
 "cells": [
  {
   "cell_type": "code",
   "execution_count": 1,
   "id": "fc4f0701",
   "metadata": {
    "execution": {
     "iopub.execute_input": "2025-03-21T05:47:18.165312Z",
     "iopub.status.busy": "2025-03-21T05:47:18.164978Z",
     "iopub.status.idle": "2025-03-21T05:47:31.510337Z",
     "shell.execute_reply": "2025-03-21T05:47:31.509713Z",
     "shell.execute_reply.started": "2025-03-21T05:47:18.165295Z"
    },
    "tags": []
   },
   "outputs": [
    {
     "name": "stderr",
     "output_type": "stream",
     "text": [
      "2025-03-21 01:47:20.080133: W tensorflow/stream_executor/platform/default/dso_loader.cc:64] Could not load dynamic library 'libcudart.so.11.0'; dlerror: libcudart.so.11.0: cannot open shared object file: No such file or directory; LD_LIBRARY_PATH: /data/miniconda3/envs/python_3.8.x/oracle_instant_client/instantclient_21_1\n",
      "2025-03-21 01:47:20.080158: I tensorflow/stream_executor/cuda/cudart_stub.cc:29] Ignore above cudart dlerror if you do not have a GPU set up on your machine.\n"
     ]
    },
    {
     "name": "stdout",
     "output_type": "stream",
     "text": [
      "Recognized GPUs: \u001b[0;31m0\u001b[0m\n"
     ]
    },
    {
     "name": "stderr",
     "output_type": "stream",
     "text": [
      "2025-03-21 01:47:31.506789: E tensorflow/stream_executor/cuda/cuda_driver.cc:271] failed call to cuInit: CUDA_ERROR_NO_DEVICE: no CUDA-capable device is detected\n",
      "2025-03-21 01:47:31.506826: I tensorflow/stream_executor/cuda/cuda_diagnostics.cc:156] kernel driver does not appear to be running on this host (gen-queue-dy-m7i-16xlarge-1): /proc/driver/nvidia/version does not exist\n"
     ]
    }
   ],
   "source": [
    "import pandas as pd\n",
    "import matplotlib.pyplot as plt\n",
    "#import seaborn as sns\n",
    "import numpy as np\n",
    "import pickle\n",
    "from PIL import Image\n",
    "import sys\n",
    "import anndata as ad\n",
    "import math\n",
    "import pickle\n",
    "from scipy import sparse\n",
    "sys.path.append('../../code/')\n",
    "from libs.utils import simple_efm_kwargs_generator\n",
    "from libs.models import STaCkerSemiSupervised\n",
    "from libs.alignment import stacker_register,register\n",
    "from libs.utils.image.transcriptome import createCompositeImg\n",
    "from libs.utils.auxiliary import *\n",
    "\n",
    "seed = 0\n",
    "rng = np.random.default_rng(seed)\n",
    "\n",
    "num_gpus = len(tf.config.list_physical_devices(\"GPU\"))\n",
    "gpus_color = '\\033[0;32m' if num_gpus > 0 else '\\033[0;31m'\n",
    "gpus_string = f\"{gpus_color}{num_gpus}\\033[0m\"\n",
    "print(f'Recognized GPUs: {gpus_string}')"
   ]
  },
  {
   "cell_type": "code",
   "execution_count": null,
   "id": "c2d1241c-85af-4383-aa95-451be2496490",
   "metadata": {},
   "outputs": [],
   "source": [
    "model_sm = STaCkerSemiSupervised(img_shape=(256,256,3),\n",
    "                                    lbl_shape=(256,256,3),\n",
    "                                    auxiliary_outputs=['def_output', 'inv_def_output'],\n",
    "                                    efm_kwargs=simple_efm_kwargs_generator(dict_inputs=True,\n",
    "                                                                           dict_outputs=True,\n",
    "                                                                           output_names_list=['moved_img',\n",
    "                                                                                              'def_output',\n",
    "                                                                                              'inv_def_output',\n",
    "                                                                                              'moved_lbl']))\n",
    "model_sm.load_weights('../../data/stacker-params-sample/checkpoints/variables/variables')\n",
    "model_sm = model_sm.references.base_model\n",
    "\n",
    "model_sm.get_input_signature()"
   ]
  },
  {
   "cell_type": "code",
   "execution_count": null,
   "id": "38835162",
   "metadata": {},
   "outputs": [],
   "source": []
  },
  {
   "cell_type": "code",
   "execution_count": 5,
   "id": "b18a5e0e",
   "metadata": {},
   "outputs": [],
   "source": [
    "# Fig 3\n",
    "\n",
    "fixed_img = Image.open('../data/Fig3A_fixed.png')\n",
    "small_moving_img=Image.open('../data/Fig3A_small.png')\n",
    "medium_moving_img=Image.open('../data/Fig3A_medium.png')\n",
    "large_moving_img=Image.open('../data/Fig3A_large.png')\n",
    "manual_moving_img=Image.open('../data/Fig3A_manual.png')\n",
    "\n",
    "unregistered_imgs=[small_moving_img,medium_moving_img,large_moving_img,manual_moving_img]\n",
    "\n",
    "outs=[]\n",
    "for unregistered_img in unregistered_imgs:\n",
    "    \n",
    "    stacker_results = register(\n",
    "        im_mov=unregistered_img,\n",
    "        im_fix=fixed_img,\n",
    "        max_reg_dim=296, \n",
    "        mode='dense',\n",
    "        model=model_sm,\n",
    "        apply_masks=False,\n",
    "        dense_patch_shape=None,\n",
    "        dense_patch_overlap=128,\n",
    "        dense_moving_img_name='sm_semi_base_moving_img',\n",
    "        dense_fixed_img_name='sm_semi_base_fixed_img',\n",
    "        dense_deff_name='def_output',\n",
    "        dense_inv_deff_name='inv_def_output'\n",
    "    )\n",
    "    outs.append(stacker_results['dense']['image'])\n"
   ]
  },
  {
   "cell_type": "code",
   "execution_count": 34,
   "id": "2d0360cb",
   "metadata": {},
   "outputs": [],
   "source": [
    "fixed_img = Image.open('../data/Fig3B_fixed.png')\n",
    "small_moving_img=Image.open('../data/Fig3B_small.png')\n",
    "medium_moving_img=Image.open('../data/Fig3B_medium.png')\n",
    "large_moving_img=Image.open('../data/Fig3B_large.png')\n",
    "manual_moving_img=Image.open('../data/Fig3B_manual.png')\n",
    "\n",
    "unregistered_imgs=[small_moving_img,medium_moving_img,large_moving_img,manual_moving_img]\n",
    "\n",
    "outs=[]\n",
    "for unregistered_img in unregistered_imgs:\n",
    "    stacker_results = register(\n",
    "        im_mov=unregistered_img,\n",
    "        im_fix=fixed_img,\n",
    "        max_reg_dim=512, \n",
    "        mode='dense',\n",
    "        model=model_sm,\n",
    "        dense_patch_shape=None,\n",
    "        dense_patch_overlap=128,\n",
    "        dense_moving_img_name='sm_semi_base_moving_img',\n",
    "        dense_fixed_img_name='sm_semi_base_fixed_img',\n",
    "        dense_deff_name='def_output',\n",
    "        dense_inv_deff_name='inv_def_output'\n",
    "    )\n",
    "    outs.append(stacker_results['dense']['image'])\n"
   ]
  },
  {
   "cell_type": "code",
   "execution_count": null,
   "id": "63c87b90",
   "metadata": {},
   "outputs": [],
   "source": []
  },
  {
   "cell_type": "code",
   "execution_count": 44,
   "id": "2e622d1e",
   "metadata": {},
   "outputs": [],
   "source": [
    "# example for one alignment of mouse sagital posterior slices in Fig4\n",
    "\n",
    "# input unaligned data; \n",
    "PIK='../data/mouse_sp_small.obj' \n",
    "#PIK='../data/mouse_sp_medium.obj' \n",
    "#PIK='../data/mouse_sp_large.obj' \n",
    "with open(PIK, \"rb\") as f:\n",
    "    [adata_unwarped, adata_warped]=pickle.load(f)\n",
    "\n",
    "    \n",
    "#  process composite img\n",
    "clust_file=\"../data/mouse_sp_spot.csv\"\n",
    "adata_unwarped_2=createCompositeImg(adata_unwarped,clust_file=clust_file,res=\"hires\",maskval=0,med_filter_size=4,trimMax=2)\n",
    "adata_warped_2=createCompositeImg(adata_warped,clust_file=clust_file,res=\"hires\",maskval=0,med_filter_size=4,trimMax=2)\n",
    "\n",
    "# stacker alignment\n",
    "rs = stacker_register(slices=[adata_unwarped_2,adata_warped_2],\n",
    "                alignment_mode='templated',\n",
    "                ref_index=0,\n",
    "                spatial_strategy='points',\n",
    "                spatial_target='hires',\n",
    "                max_reg_dim=512,\n",
    "                mode='dense',\n",
    "                model=model_sm,\n",
    "                dense_moving_img_name='sm_semi_base_moving_img',\n",
    "                dense_fixed_img_name='sm_semi_base_fixed_img',\n",
    "                dense_deff_name='def_output',\n",
    "                dense_inv_deff_name='inv_def_output')\n",
    "\n"
   ]
  },
  {
   "cell_type": "code",
   "execution_count": null,
   "id": "8cf3447a",
   "metadata": {},
   "outputs": [],
   "source": [
    "# example for one alignment of four warped tissue slices (fig5)\n",
    "\n",
    "# input unaligned data; \n",
    "PIK='../data/mouse_mini.obj' \n",
    "with open(PIK, \"rb\") as f:\n",
    "    [miniext]=pickle.load(f)\n",
    "    \n",
    "# process composite img\n",
    "rescaled=scaleAdata(miniext, ratio=0.07, finalhires=512, coarse=0)\n",
    "clust_file='../data/mouse_mini_spot.csv'\n",
    "for each in range(len(rescaled)):\n",
    "    rescaled[each]=createCompositeImg(rescaled[each],clust_file=clust_file,res=\"hires\",maskval=0,med_filter_size=4,trimMax=2)\n",
    "\n",
    "# stacker alignment\n",
    "templateless_spatials=[]\n",
    "rs = stacker_register(slices=rescaled,\n",
    "                     alignment_mode='templateless',\n",
    "                     spatial_strategy='points',\n",
    "                     spatial_target='hires',\n",
    "                     max_reg_dim=512,\n",
    "                     mode='dense',\n",
    "                     model=model_sm,\n",
    "                     dense_moving_img_name='sm_semi_base_moving_img',\n",
    "                     dense_fixed_img_name='sm_semi_base_fixed_img',\n",
    "                     dense_deff_name='def_output',\n",
    "                     dense_inv_deff_name='inv_def_output'\n",
    "                     )\n",
    "templateless_spatials.append([each.obsm['spatial'] for each in rs])\n",
    "    \n",
    "    "
   ]
  },
  {
   "cell_type": "code",
   "execution_count": null,
   "id": "7069e032",
   "metadata": {},
   "outputs": [],
   "source": []
  },
  {
   "cell_type": "code",
   "execution_count": 18,
   "id": "86a3371d",
   "metadata": {},
   "outputs": [],
   "source": [
    "####  DLPFC slices (fig6)\n",
    "\n",
    "# input unaligned data; \n",
    "PIK='../data/dlpfc.obj' \n",
    "with open(PIK, \"rb\") as f:\n",
    "    [unaligned_dat]=pickle.load(f)"
   ]
  },
  {
   "cell_type": "code",
   "execution_count": 22,
   "id": "b5bb6c77",
   "metadata": {},
   "outputs": [],
   "source": [
    "### process composite img\n",
    "\n",
    "# rescaled_dat=scaleAdata(unaligned_dat, ratio=0.15, finalhires=512, coarse=0)\n",
    "# rescaled_contour=[]\n",
    "# for each in range(len(rescaled_dat)):\n",
    "#     rescaled_contour.append(createCompositeImg(rescaled_dat[each],clust_file=\"../data/dlpfc_\"+str(each)+\"_spot.csv\",res=\"hires\",maskval=0,med_filter_size=4,trimMax=2))\n",
    "\n",
    "#PIK='../data/dlpfc_processed.obj' \n",
    "#with open(PIK, \"wb\") as f:\n",
    "#    pickle.dump([rescaled_contour], f)\n"
   ]
  },
  {
   "cell_type": "code",
   "execution_count": 6,
   "id": "052b66c4",
   "metadata": {},
   "outputs": [
    {
     "name": "stderr",
     "output_type": "stream",
     "text": [
      "/usr/local/lib/python3.8/dist-packages/anndata/_core/anndata.py:1830: UserWarning:\n",
      "\n",
      "Variable names are not unique. To make them unique, call `.var_names_make_unique`.\n",
      "\n"
     ]
    }
   ],
   "source": [
    "# stacker alignment \n",
    "PIK='../data/dlpfc_processed.obj' \n",
    "with open(PIK, \"rb\") as f:\n",
    "    [rescaled_contour]=pickle.load(f)\n",
    "    \n",
    "rs4 = stacker_register(slices=rescaled_contour,\n",
    "                     alignment_mode='templateless',#'',\n",
    "                     spatial_strategy='points',\n",
    "                     spatial_target='hires',\n",
    "                     max_reg_dim=512,\n",
    "                     mode='dense',\n",
    "                     model=model_sm,\n",
    "                     dense_moving_img_name='sm_semi_base_moving_img',\n",
    "                     dense_fixed_img_name='sm_semi_base_fixed_img',\n",
    "                     dense_deff_name='def_output',\n",
    "                     dense_inv_deff_name='inv_def_output'\n",
    "                     )\n"
   ]
  },
  {
   "cell_type": "code",
   "execution_count": null,
   "id": "a7a58191",
   "metadata": {},
   "outputs": [],
   "source": []
  },
  {
   "cell_type": "code",
   "execution_count": 54,
   "id": "94bc8c70",
   "metadata": {},
   "outputs": [],
   "source": [
    "### mOB (fig7)\n",
    "\n",
    "## input data, unaligned\n",
    "PIK='../data/mOB.obj' \n",
    "with open(PIK, \"rb\") as f:\n",
    "    [obdataset]=pickle.load(f)\n"
   ]
  },
  {
   "cell_type": "code",
   "execution_count": 79,
   "id": "93781782",
   "metadata": {},
   "outputs": [],
   "source": [
    "### process composite img\n",
    "\n",
    "# rescaled_dat=scaleAdata(obdataset, ratio=0.05, finalhires=512, coarse=1,use_principal_axis=True)\n",
    "# rescaled_contour=[]\n",
    "# for each in range(len(rescaled_dat)):\n",
    "#     rescaled_contour.append(createCompositeImg(rescaled_dat[each],clust_file=\"../data/mOB_\"+str(each)+\"_spot.csv\",res=\"hires\",maskval=0,med_filter_size=4,trimMax=2))\n",
    "\n",
    "# PIK='../data/mOB_processed.obj' \n",
    "# with open(PIK, \"wb\") as f:\n",
    "#     pickle.dump([rescaled_contour],f)\n"
   ]
  },
  {
   "cell_type": "code",
   "execution_count": 78,
   "id": "94b1856a",
   "metadata": {},
   "outputs": [],
   "source": [
    "# example of an alignment\n",
    "rs = stacker_register(slices=rescaled_contour,\n",
    "                     alignment_mode='templateless',\n",
    "                     spatial_strategy='points',\n",
    "                     spatial_target='hires',\n",
    "                     max_reg_dim=512,\n",
    "                     mode='dense',\n",
    "                     model=model_sm,\n",
    "                     dense_moving_img_name='sm_semi_base_moving_img',\n",
    "                     dense_fixed_img_name='sm_semi_base_fixed_img',\n",
    "                     dense_deff_name='def_output',\n",
    "                     dense_inv_deff_name='inv_def_output'\n",
    "                     )\n",
    "\n"
   ]
  },
  {
   "cell_type": "code",
   "execution_count": null,
   "id": "4661835d",
   "metadata": {},
   "outputs": [],
   "source": []
  },
  {
   "cell_type": "code",
   "execution_count": 110,
   "id": "789c1820",
   "metadata": {},
   "outputs": [],
   "source": [
    "#### merfish (fig8)\n",
    "\n",
    "#input data, unaligned\n",
    "\n",
    "PIK='../data/merfish.obj' \n",
    "with open(PIK, \"rb\") as f:\n",
    "    [s2r1,s2r2,s2r3]=pickle.load(f)\n"
   ]
  },
  {
   "cell_type": "code",
   "execution_count": 112,
   "id": "79ff1df4",
   "metadata": {},
   "outputs": [],
   "source": [
    "# process composite img\n",
    "\n",
    "# rescaled_dat=scaleAdata([s2r1,s2r2,s2r3], ratio=0.05, finalhires=512, coarse=2)\n",
    "# rescaled_contour=[]\n",
    "# for each in range(len(rescaled_dat)):\n",
    "#     rescaled_contour.append(createCompositeImg(rescaled_dat[each],clust_file=\"../data/merfish_spot.csv\",res=\"hires\",maskval=0,med_filter_size=4,trimMax=2))\n",
    "# PIK='../data/merfish_processed.obj' \n",
    "# with open(PIK, \"wb\") as f:\n",
    "#     pickle.dump([rescaled_contour],f)\n"
   ]
  },
  {
   "cell_type": "code",
   "execution_count": 126,
   "id": "56277944",
   "metadata": {},
   "outputs": [],
   "source": [
    "# example of an alignment\n",
    "\n",
    "PIK='../data/merfish_processed.obj' \n",
    "with open(PIK, \"rb\") as f:\n",
    "    [rescaled_contour]=pickle.load(f)\n",
    "\n",
    "rs = stacker_register(slices=rescaled_contour,\n",
    "                     alignment_mode='templateless',#'',\n",
    "                     spatial_strategy='points',\n",
    "                     spatial_target='hires',\n",
    "                     mask_fn=lambda pil_img: Image.fromarray(np.ones(pil_img.size[::-1], dtype=bool)),\n",
    "                     max_reg_dim=512,\n",
    "                     mode='dense',\n",
    "                     model=model_sm,\n",
    "                     dense_moving_img_name='sm_semi_base_moving_img',\n",
    "                     dense_fixed_img_name='sm_semi_base_fixed_img',\n",
    "                     dense_deff_name='def_output',\n",
    "                     dense_inv_deff_name='inv_def_output')\n"
   ]
  },
  {
   "cell_type": "code",
   "execution_count": null,
   "id": "67ac545f",
   "metadata": {},
   "outputs": [],
   "source": []
  },
  {
   "cell_type": "code",
   "execution_count": 130,
   "id": "bc74a064",
   "metadata": {},
   "outputs": [],
   "source": [
    "#### Visium & Xenium (fig9)\n",
    "\n",
    "PIK='../data/vx.obj' \n",
    "with open(PIK, \"rb\") as f:\n",
    "   [adata_visium,adata_xenium]=pickle.load(f)\n",
    "\n"
   ]
  },
  {
   "cell_type": "code",
   "execution_count": 146,
   "id": "4d4380cc",
   "metadata": {},
   "outputs": [],
   "source": [
    "## process composite img\n",
    "\n",
    "# rescaled_dat=scaleAdata([adata_visium,adata_xenium], ratio=0.0, finalhires=512, coarse=0)\n",
    "# rescaled_contour=[]\n",
    "# for each in range(len(rescaled_dat)):\n",
    "#     rescaled_contour.append(createCompositeImg(rescaled_dat[each],clust_file=\"../data/vx_spot.csv\",res=\"hires\",maskval=0,med_filter_size=4,trimMax=2))\n",
    "#     Image.fromarray((rescaled_contour[each].uns['spatial']['lib']['images']['hires'] * 255).astype(np.uint8)).show()\n",
    "# PIK='../data/vx_processed.obj' \n",
    "# with open(PIK, \"wb\") as f:\n",
    "#     pickle.dump([rescaled_contour], f)\n"
   ]
  },
  {
   "cell_type": "code",
   "execution_count": 148,
   "id": "4c288904",
   "metadata": {},
   "outputs": [],
   "source": [
    "PIK='../data/vx_processed.obj' \n",
    "with open(PIK, \"rb\") as f:\n",
    "   [rescaled_contour] =pickle.load(f)\n",
    "\n",
    "\n",
    "rs = stacker_register(slices=rescaled_contour,\n",
    "                     alignment_mode='templateless',\n",
    "                     spatial_strategy='points',\n",
    "                     spatial_target='hires',\n",
    "                     mask_fn=lambda pil_img: Image.fromarray(np.ones(pil_img.size[::-1], dtype=bool)),\n",
    "                     max_reg_dim=512,\n",
    "                     mode='dense',\n",
    "                     model=model_sm,\n",
    "                     dense_moving_img_name='sm_semi_base_moving_img',\n",
    "                     dense_fixed_img_name='sm_semi_base_fixed_img',\n",
    "                     dense_deff_name='def_output',\n",
    "                     dense_inv_deff_name='inv_def_output'\n",
    "                     )\n"
   ]
  },
  {
   "cell_type": "code",
   "execution_count": null,
   "id": "80e4607d",
   "metadata": {},
   "outputs": [],
   "source": []
  },
  {
   "cell_type": "code",
   "execution_count": null,
   "id": "0d593430",
   "metadata": {},
   "outputs": [],
   "source": []
  },
  {
   "cell_type": "code",
   "execution_count": null,
   "id": "9588aebe",
   "metadata": {},
   "outputs": [],
   "source": []
  }
 ],
 "metadata": {
  "kernelspec": {
   "display_name": "Python 3.8.x",
   "language": "python",
   "name": "python_3.8.x"
  },
  "language_info": {
   "codemirror_mode": {
    "name": "ipython",
    "version": 3
   },
   "file_extension": ".py",
   "mimetype": "text/x-python",
   "name": "python",
   "nbconvert_exporter": "python",
   "pygments_lexer": "ipython3",
   "version": "3.8.4"
  }
 },
 "nbformat": 4,
 "nbformat_minor": 5
}
